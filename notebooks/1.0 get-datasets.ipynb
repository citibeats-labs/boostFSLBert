{
 "cells": [
  {
   "cell_type": "code",
   "execution_count": 2,
   "id": "f3c465d4",
   "metadata": {},
   "outputs": [],
   "source": [
    "from os import getcwd\n",
    "from os.path import join, dirname\n",
    "import numpy as np\n",
    "import pandas as pd\n",
    "\n",
    "PATH_REPO = dirname(getcwd())\n",
    "PATH_DATA = join(PATH_REPO, 'data')"
   ]
  },
  {
   "cell_type": "markdown",
   "id": "a4921aed",
   "metadata": {},
   "source": [
    "# 1. Get data"
   ]
  },
  {
   "cell_type": "code",
   "execution_count": 5,
   "id": "f375572d",
   "metadata": {},
   "outputs": [
    {
     "name": "stderr",
     "output_type": "stream",
     "text": [
      "/Users/agombert/miniforge3/envs/SPACY_TF/lib/python3.8/site-packages/IPython/core/interactiveshell.py:3444: DtypeWarning: Columns (4,9) have mixed types.Specify dtype option on import or set low_memory=False.\n",
      "  exec(code_obj, self.user_global_ns, self.user_ns)\n"
     ]
    }
   ],
   "source": [
    "data = pd.read_csv(join(PATH_DATA, 'MeTooHate_pp.zip'), compression='zip')"
   ]
  },
  {
   "cell_type": "code",
   "execution_count": 6,
   "id": "252fdad2",
   "metadata": {},
   "outputs": [
    {
     "name": "stdout",
     "output_type": "stream",
     "text": [
      "807176\n"
     ]
    },
    {
     "data": {
      "text/plain": [
       "672433"
      ]
     },
     "execution_count": 6,
     "metadata": {},
     "output_type": "execute_result"
    }
   ],
   "source": [
    "print(len(data))\n",
    "data = data.drop_duplicates('text_pp').copy()\n",
    "len(data)"
   ]
  },
  {
   "cell_type": "code",
   "execution_count": 7,
   "id": "f28c278d",
   "metadata": {},
   "outputs": [
    {
     "data": {
      "text/plain": [
       "(672433, 88117)"
      ]
     },
     "execution_count": 7,
     "metadata": {},
     "output_type": "execute_result"
    }
   ],
   "source": [
    "data.loc[:, 'category'] = data.loc[:, 'category'].apply(lambda x: int(x))\n",
    "data.loc[:, 'length'] = data.loc[:, 'text_pp'].apply(lambda x: len(x) if type(x) == str else 0)\n",
    "len(data), data.category.sum()"
   ]
  },
  {
   "cell_type": "code",
   "execution_count": 8,
   "id": "f6e1126b",
   "metadata": {},
   "outputs": [
    {
     "data": {
      "text/plain": [
       "(614559, 84545)"
      ]
     },
     "execution_count": 8,
     "metadata": {},
     "output_type": "execute_result"
    }
   ],
   "source": [
    "data = data.loc[data.loc[:, 'length'] > 30, :].copy()\n",
    "len(data), data.category.sum()"
   ]
  },
  {
   "cell_type": "markdown",
   "id": "f00f215d",
   "metadata": {},
   "source": [
    "# 2. Extract test set"
   ]
  },
  {
   "cell_type": "code",
   "execution_count": 9,
   "id": "61f637b8",
   "metadata": {},
   "outputs": [],
   "source": [
    "np.random.seed(123)"
   ]
  },
  {
   "cell_type": "code",
   "execution_count": 42,
   "id": "18173225",
   "metadata": {},
   "outputs": [
    {
     "data": {
      "text/plain": [
       "(5000, 10000)"
      ]
     },
     "execution_count": 42,
     "metadata": {},
     "output_type": "execute_result"
    }
   ],
   "source": [
    "test = pd.concat((data.loc[data.loc[:, 'category'] == 0, :].sample(5000, replace=False),\n",
    "                data.loc[data.loc[:, 'category'] == 1, :].sample(5000, replace=False))).sample(frac=1, \n",
    "                                                                        replace=False).reset_index(drop=True)\n",
    "test = test.loc[:, ['text', 'text_pp', 'category']].copy()\n",
    "test.loc[:, 'category'].sum(), len(test)"
   ]
  },
  {
   "cell_type": "code",
   "execution_count": 43,
   "id": "1d3952c9",
   "metadata": {},
   "outputs": [],
   "source": [
    "test.to_csv(join(PATH_DATA, 'test.csv'), index=False)"
   ]
  },
  {
   "cell_type": "markdown",
   "id": "da999e14",
   "metadata": {},
   "source": [
    "# 3. Extract a small training set"
   ]
  },
  {
   "cell_type": "code",
   "execution_count": 16,
   "id": "cb40555e",
   "metadata": {},
   "outputs": [
    {
     "data": {
      "text/plain": [
       "(50, 100)"
      ]
     },
     "execution_count": 16,
     "metadata": {},
     "output_type": "execute_result"
    }
   ],
   "source": [
    "_data = data.loc[~data.loc[:, 'text_pp'].isin(test.loc[:, 'text_pp']), :].copy()\n",
    "\n",
    "train = pd.concat((_data.loc[_data.loc[:, 'category'] == 0, :].sample(50, replace=False),\n",
    "                _data.loc[_data.loc[:, 'category'] == 1, :].sample(50, replace=False))).sample(frac=1, \n",
    "                                                                        replace=False).reset_index(drop=True)\n",
    "train = train.loc[:, ['text', 'text_pp', 'category']].copy()\n",
    "train.loc[:, 'category'].sum(), len(train)"
   ]
  },
  {
   "cell_type": "code",
   "execution_count": 17,
   "id": "80f4638b",
   "metadata": {},
   "outputs": [],
   "source": [
    "train.to_csv(join(PATH_DATA, 'train_.csv'), index=False)"
   ]
  },
  {
   "cell_type": "markdown",
   "id": "27e89a5b",
   "metadata": {},
   "source": [
    "# 4. Get augmented data"
   ]
  },
  {
   "cell_type": "code",
   "execution_count": 46,
   "id": "f240b102",
   "metadata": {},
   "outputs": [
    {
     "data": {
      "text/plain": [
       "(25000, 120000)"
      ]
     },
     "execution_count": 46,
     "metadata": {},
     "output_type": "execute_result"
    }
   ],
   "source": [
    "_data = data.loc[(~data.loc[:, 'text_pp'].isin(test.loc[:, 'text_pp'])) & \n",
    "                 (~data.loc[:, 'text_pp'].isin(train.loc[:, 'text_pp'])), :].copy()\n",
    "\n",
    "random = pd.concat((_data.loc[_data.loc[:, 'category'] == 0, :].sample(95000, replace=False),\n",
    "                _data.loc[_data.loc[:, 'category'] == 1, :].sample(25000, replace=False))).sample(frac=1, \n",
    "                                                                        replace=False).reset_index(drop=True)\n",
    "random = random.loc[:, ['text', 'text_pp', 'category']].copy()\n",
    "random.loc[:, 'category'].sum(), len(random)"
   ]
  },
  {
   "cell_type": "code",
   "execution_count": 47,
   "id": "b4e7c6b9",
   "metadata": {},
   "outputs": [],
   "source": [
    "random.to_csv(join(PATH_DATA, 'random.csv'), index=False)"
   ]
  }
 ],
 "metadata": {
  "kernelspec": {
   "display_name": "Python 3 (ipykernel)",
   "language": "python",
   "name": "python3"
  },
  "language_info": {
   "codemirror_mode": {
    "name": "ipython",
    "version": 3
   },
   "file_extension": ".py",
   "mimetype": "text/x-python",
   "name": "python",
   "nbconvert_exporter": "python",
   "pygments_lexer": "ipython3",
   "version": "3.8.12"
  }
 },
 "nbformat": 4,
 "nbformat_minor": 5
}
