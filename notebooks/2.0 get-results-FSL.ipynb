{
 "cells": [
  {
   "cell_type": "code",
   "execution_count": 165,
   "id": "8ed01be6",
   "metadata": {},
   "outputs": [],
   "source": [
    "from os import getcwd\n",
    "from os.path import join, dirname\n",
    "import pandas as pd\n",
    "import pickle\n",
    "import string \n",
    "import numpy as np\n",
    "import spacy\n",
    "import re\n",
    "\n",
    "PATH_REPO = dirname(getcwd())\n",
    "PATH_DATA = join(PATH_REPO, 'data')\n",
    "PATH_MODELS = join(PATH_REPO, 'models')\n",
    "PATH_UTILS = join(PATH_REPO, 'utils')\n",
    "\n",
    "from sklearn.utils import shuffle\n",
    "from sklearn.feature_extraction.text import TfidfVectorizer\n",
    "from sklearn.linear_model import LogisticRegression\n",
    "\n",
    "import sys\n",
    "sys.path.append(PATH_UTILS)\n",
    "\n",
    "from evaluate import evaluate\n",
    "from classify import get_predictions"
   ]
  },
  {
   "cell_type": "markdown",
   "id": "d211d9f0",
   "metadata": {},
   "source": [
    "# 1. Get Testing set"
   ]
  },
  {
   "cell_type": "code",
   "execution_count": 166,
   "id": "310c4331",
   "metadata": {},
   "outputs": [
    {
     "data": {
      "text/plain": [
       "10000"
      ]
     },
     "execution_count": 166,
     "metadata": {},
     "output_type": "execute_result"
    }
   ],
   "source": [
    "gold = pd.read_csv(join(PATH_DATA, f'test.csv'))\n",
    "y_true = gold.loc[:, 'category'].values\n",
    "len(gold)"
   ]
  },
  {
   "cell_type": "code",
   "execution_count": 167,
   "id": "8d20a5bc",
   "metadata": {},
   "outputs": [],
   "source": [
    "probas={}\n",
    "probas['Random']= {}\n",
    "n = 100000\n",
    "for i in range(n):\n",
    "    probas['Random'][i] = np.random.randint(0, 2, len(gold))\n",
    "probas['Random'] = {'0': np.mean([probas['Random'][i] for i in range(n)], axis=0)}"
   ]
  },
  {
   "cell_type": "code",
   "execution_count": 168,
   "id": "6bc6c852",
   "metadata": {},
   "outputs": [],
   "source": [
    "probas['bow'] = {}\n",
    "\n",
    "train = pd.read_csv(join(PATH_DATA, 'train_.csv'))\n",
    "vectorizer = TfidfVectorizer( ngram_range=(1, 3), min_df=2, stop_words='english')\n",
    "X = vectorizer.fit_transform(train.text_pp.values)\n",
    "y = train.category.values\n",
    "\n",
    "X, y = shuffle(X, y)\n",
    "\n",
    "clf = LogisticRegression(random_state=0, class_weight='balanced').fit(X, y)\n",
    "probas['bow'][0] = clf.predict_proba(vectorizer.transform(gold.loc[:, 'text_pp'].values))[:, 1]"
   ]
  },
  {
   "cell_type": "markdown",
   "id": "c720115a",
   "metadata": {},
   "source": [
    "# 2. FSL"
   ]
  },
  {
   "cell_type": "code",
   "execution_count": 173,
   "id": "b58d8d45",
   "metadata": {},
   "outputs": [],
   "source": [
    "probas['FSL']= {}\n",
    "n=15\n",
    "for i in range(n):\n",
    "    v = pd.read_csv(join(PATH_DATA, f'FSL_blog_{i}_preds.csv'))\n",
    "    probas['FSL'][i] = v.loc[:, 'prob_hatred'].values\n",
    "    \n",
    "probas['FSL_mean'] = {'0': np.mean([probas['FSL'][i] for i in range(n)], axis=0)}"
   ]
  },
  {
   "cell_type": "code",
   "execution_count": 174,
   "id": "b2c92a24",
   "metadata": {},
   "outputs": [],
   "source": [
    "probas['FSL_MINI']= {}\n",
    "n=15\n",
    "for i in range(n):\n",
    "    v = pd.read_csv(join(PATH_DATA, f'FSL_blog_MINI_{i}_preds.csv'))\n",
    "    probas['FSL_MINI'][i] = v.loc[:, 'prob_hatred'].values\n",
    "    \n",
    "probas['FSL_MINI_mean'] = {'0': np.mean([probas['FSL_MINI'][i] for i in range(n)], axis=0)}"
   ]
  },
  {
   "cell_type": "markdown",
   "id": "97ed97ce",
   "metadata": {},
   "source": [
    "# 3. Distill"
   ]
  },
  {
   "cell_type": "code",
   "execution_count": 175,
   "id": "e9e37104",
   "metadata": {},
   "outputs": [],
   "source": [
    "probas['distill']= {}\n",
    "v = pd.read_csv(join(PATH_DATA, f'FSL_mean_distill_preds.csv'))\n",
    "probas['distill'][0] = v.loc[:, 'prob_hatred'].values\n",
    "\n",
    "probas['distill_MINI']= {}\n",
    "v = pd.read_csv(join(PATH_DATA, f'FSL_mean_distill_MINI_preds.csv'))\n",
    "probas['distill_MINI'][0] = v.loc[:, 'prob_hatred'].values"
   ]
  },
  {
   "cell_type": "markdown",
   "id": "5477993f",
   "metadata": {},
   "source": [
    "# 4. Results of general metrics"
   ]
  },
  {
   "cell_type": "code",
   "execution_count": 176,
   "id": "84881c9f",
   "metadata": {},
   "outputs": [
    {
     "name": "stdout",
     "output_type": "stream",
     "text": [
      "|Models| F1 | P | R |\n",
      "|:-----:|:--:|:-:|:-:|\n",
      "|Random|50.73(0.00)|50.44(0.00)|51.02(0.00)|\n",
      "|bow|56.40(0.00)|63.07(0.00)|51.00(0.00)|\n",
      "|FSL|64.41(4.65)|65.34(2.87)|64.80(10.39)|\n",
      "|FSL_mean|67.86(0.00)|67.75(0.00)|67.98(0.00)|\n",
      "|FSL_MINI|63.05(1.40)|63.70(1.69)|62.46(4.00)|\n",
      "|FSL_MINI_mean|63.87(0.00)|64.56(0.00)|63.20(0.00)|\n",
      "|distill|68.34(0.00)|67.58(0.00)|69.12(0.00)|\n",
      "|distill_MINI|64.15(0.00)|64.52(0.00)|63.78(0.00)|\n"
     ]
    }
   ],
   "source": [
    "title =   '|Models| F1 | P | R |'\n",
    "subhead = '|:-----:|:--:|:-:|:-:|'\n",
    "\n",
    "print(title)\n",
    "print(subhead)\n",
    "\n",
    "recalls = {key: {} for key in probas.keys()}\n",
    "precisions = {key: {} for key in probas.keys()}\n",
    "f1s = {key: {} for key in probas.keys()}\n",
    "rs, ps, fs= {key: [] for key in probas.keys()}, {key: [] for key in probas.keys()}, {key: [] for key in probas.keys()}\n",
    "\n",
    "for key, value in probas.items():\n",
    "    for _key, _value in value.items():\n",
    "        y_preds = get_predictions(_value, p=0.5)\n",
    "        r, p, f= [], [], []\n",
    "        metric = evaluate(y_true, y_preds)\n",
    "        r.append(metric.get('recall'))\n",
    "        p.append(metric.get('precision'))\n",
    "        f.append(metric.get('f1'))\n",
    "        #here its the macro R and macro P (so macro F) for type_model (key) and for the ith model (_key)\n",
    "        rs[key].append(np.mean(r))\n",
    "        ps[key].append(np.mean(p))\n",
    "        f = 2 * np.mean(r) * np.mean(p) / (np.mean(r) + np.mean(p)) if (np.mean(r)+np.mean(p)) > 0 else 0\n",
    "        fs[key].append(f)\n",
    "    #here its the median of the macro R and macro P (and macro F)\n",
    "    recalls[key]['median'], recalls[key]['std'] = np.median(rs[key]), np.std(rs[key])\n",
    "    precisions[key]['median'], precisions[key]['std'] = np.median(ps[key]), np.std(ps[key])\n",
    "    f1s[key]['median'] = 2 * precisions[key]['median'] * recalls[key]['median'] / \\\n",
    "                         (precisions[key]['median'] + recalls[key]['median'])\n",
    "    f1s[key]['std'] = np.std(fs[key])\n",
    "    print('|{}|{:.2f}({:.2f})|{:.2f}({:.2f})|{:.2f}({:.2f})|'.format(key, np.median(fs[key]),\n",
    "                                                                     np.std(fs[key]),\n",
    "                                                                     np.median(ps[key]),\n",
    "                                                                     np.std(ps[key]),\n",
    "                                                                     np.median(rs[key]),\n",
    "                                                                     np.std(rs[key])))"
   ]
  },
  {
   "cell_type": "markdown",
   "id": "b3e07404",
   "metadata": {},
   "source": [
    "|Models| F1 | P | R |\n",
    "|:-----:|:--:|:-:|:-:|\n",
    "|Random|50.73(0.00)|50.44(0.00)|51.02(0.00)|\n",
    "|bow|56.40(0.00)|63.07(0.00)|51.00(0.00)|\n",
    "|FSL|64.41(4.65)|65.34(2.87)|64.80(10.39)|\n",
    "|FSL_mean|67.86(0.00)|67.75(0.00)|67.98(0.00)|\n",
    "|FSL_MINI|63.05(1.40)|63.70(1.69)|62.46(4.00)|\n",
    "|FSL_MINI_mean|63.87(0.00)|64.56(0.00)|63.20(0.00)|\n",
    "|distill|68.34(0.00)|67.58(0.00)|69.12(0.00)|\n",
    "|distill_MINI|64.15(0.00)|64.52(0.00)|63.78(0.00)|\n"
   ]
  },
  {
   "cell_type": "code",
   "execution_count": null,
   "id": "daf40394",
   "metadata": {},
   "outputs": [],
   "source": []
  }
 ],
 "metadata": {
  "kernelspec": {
   "display_name": "Python 3 (ipykernel)",
   "language": "python",
   "name": "python3"
  },
  "language_info": {
   "codemirror_mode": {
    "name": "ipython",
    "version": 3
   },
   "file_extension": ".py",
   "mimetype": "text/x-python",
   "name": "python",
   "nbconvert_exporter": "python",
   "pygments_lexer": "ipython3",
   "version": "3.8.12"
  }
 },
 "nbformat": 4,
 "nbformat_minor": 5
}
